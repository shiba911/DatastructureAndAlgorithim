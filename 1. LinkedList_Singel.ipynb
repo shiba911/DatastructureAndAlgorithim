{
 "cells": [
  {
   "cell_type": "code",
   "execution_count": 118,
   "id": "d0058a47",
   "metadata": {},
   "outputs": [],
   "source": [
    "## Create node class\n",
    "class Node:\n",
    "     ## Intitalize the node .. data and next node intialize with null\n",
    "    def __init__(self,data=None,next=None):\n",
    "        self.data=data\n",
    "        self.next=next\n"
   ]
  },
  {
   "cell_type": "code",
   "execution_count": 119,
   "id": "387ce3cd",
   "metadata": {},
   "outputs": [],
   "source": [
    "## LinkedList is a wrapper  which contains no,one or more nodes inside this and if there is multiple nodes \n",
    "## then they are linked each other\n",
    "class Linkedlist:\n",
    "    \n",
    "    ## Intialize the linkedlist, set the head node to null\n",
    "    def __init__(self):\n",
    "        self.head=None\n",
    "     \n",
    "    ##method to insert node at first of the linkedlist\n",
    "    def Insert_Node_At_Beign(self,value):\n",
    "        node=Node(value,self.head)\n",
    "        self.head=node\n",
    "    \n",
    "    ##Method to add node at end of linked list\n",
    "    def Insert_Node_At_End(self,value):\n",
    "        ## if head node is null.. it means empty linkedlist and add node to list\n",
    "        if self.head is None:\n",
    "            node=Node(value,None)\n",
    "            self.head=node\n",
    "        else:\n",
    "            ## if there are nodes in linkedlist then traverse till end\n",
    "            traverse_node=self.head\n",
    "            while traverse_node.next:\n",
    "                traverse_node=traverse_node.next\n",
    "            ## Create last node by invoking node class. here next node is noon\n",
    "            node=Node(value,None)\n",
    "            ## Linked the last node into linkedlist nodes\n",
    "            traverse_node.next=node\n",
    "                 \n",
    "    ## Insert data values from list to linked list\n",
    "    def Insert_Values_From_List(self,inputlist=None):\n",
    "        if inputlist is None:\n",
    "            print(\"There is no input values in list.hence can not create linkedlist\")\n",
    "            return\n",
    "        else:\n",
    "            ## read one value from list and insert into node at the end of linkedlist\n",
    "            for value in inputlist:\n",
    "                self.Insert_Node_At_End(value)\n",
    "                \n",
    "    ## Get the length of the LinkedList  \n",
    "    def Get_LinkedList_Size(self):\n",
    "        node_count=0\n",
    "        traverse_node=self.head\n",
    "        while traverse_node:\n",
    "            \n",
    "            node_count=node_count+1\n",
    "            traverse_node=traverse_node.next\n",
    "        return node_count\n",
    "    \n",
    "    ## Insert node based on Index, received the index as input\n",
    "    def Insert_Node_At_Index(self,pos,value):\n",
    "        linkedlist_length=self.Get_LinkedList_Size()\n",
    "        if (pos<0) or (pos>linkedlist_length):\n",
    "            print(\"Index is outbound of linkedlist.Not able to insert\")\n",
    "        else:\n",
    "            ## add the node in first postion of linkedlist\n",
    "            if pos==0:\n",
    "                node=Node(value,self.head)\n",
    "                self.head=node\n",
    "            ## add the node at end of the linkedlist\n",
    "            else:\n",
    "                node_count=0\n",
    "                traverse_node=self.head\n",
    "                while traverse_node:\n",
    "                    if node_count==pos-1:\n",
    "                        node=Node(value,traverse_node.next)\n",
    "                        traverse_node.next=node\n",
    "                        return\n",
    "                    \n",
    "                    node_count=node_count+1\n",
    "                    traverse_node=traverse_node.next\n",
    "                    \n",
    "                \n",
    "    ## Delete a node from begin of the linkedlist\n",
    "    def Delete_Node_At_Beg(self):\n",
    "        linkedlist_length=self.Get_LinkedList_Size()\n",
    "        if linkedlist_length==0:\n",
    "            print(\"Can not delete from empty linkedlist\")\n",
    "            return\n",
    "        else:\n",
    "            self.head=self.head.next\n",
    "            \n",
    "     ##Delete node from end of the linkedlist     \n",
    "    def Delete_Node_At_end(self):\n",
    "        linkedlist_length=self.Get_LinkedList_Size()\n",
    "        if linkedlist_length==0:\n",
    "            print(\"Can not delete from empty linkedlist\")\n",
    "            return\n",
    "        else:\n",
    "            node_count=0\n",
    "            traverse_node=self.head\n",
    "            ## traverse till previous of last node\n",
    "            while traverse_node:\n",
    "                if node_count==linkedlist_length-2:\n",
    "                    traverse_node.next=None\n",
    "                    return\n",
    "                node_count+=1\n",
    "                traverse_node=traverse_node.next\n",
    "            \n",
    "    def Delete_Node_At_Index(self,pos):\n",
    "        linkedlist_length=self.Get_LinkedList_Size()\n",
    "        if (pos<0) or (pos>=linkedlist_length):\n",
    "            print(\"Can not delete node from Linkedlist\")\n",
    "        else:\n",
    "            ## Delete node from top\n",
    "            if pos==0:\n",
    "                self.head=self.head.next\n",
    "            else:\n",
    "                node_count=0\n",
    "                traverse_node=self.head\n",
    "                while traverse_node:\n",
    "                    ##Traverse linked list till node before postion node\n",
    "                    if node_count==pos-1:\n",
    "                        ##delete the position node\n",
    "                        traverse_node.next=traverse_node.next.next\n",
    "                        return\n",
    "                    node_count+=1\n",
    "                    traverse_node=traverse_node.next\n",
    "                                                                                                                            \n",
    "    ##Print the linked list after creation\n",
    "    def Print_Linked_List(self):       \n",
    "        ## if There is no node then print empty linkedlist\n",
    "        if self.head is None:\n",
    "            print(\"LinkedList is empty\")\n",
    "            return\n",
    "        else:\n",
    "            ## Assign travere node to head node\n",
    "            travese_node=self.head\n",
    "            ## Initialize the node value\n",
    "            node_val=''\n",
    "            ## Travrese each node from linked list, retrive node value\n",
    "            while travese_node:\n",
    "                ##remove '->' from last node from linked list while printing\n",
    "                if travese_node.next is None:\n",
    "                    node_val=node_val+str(travese_node.data)\n",
    "                else:\n",
    "                    node_val=node_val+str(travese_node.data)+'->'                 \n",
    "                             \n",
    "                travese_node=travese_node.next\n",
    "            print(node_val)\n",
    "                \n",
    "\n",
    "        "
   ]
  },
  {
   "cell_type": "code",
   "execution_count": 122,
   "id": "573f9915",
   "metadata": {},
   "outputs": [],
   "source": [
    "##create the linkedlist object here and insert the data value  on each node and print the linkedlist\n",
    "if __name__=='__main__':\n",
    "    lin1=Linkedlist()\n",
    "    lin1.Insert_Node_At_Beign(1)\n",
    "    lin1.Insert_Node_At_Beign(1)\n",
    "    lin1.Insert_Node_At_Beign(9)\n",
    "   "
   ]
  },
  {
   "cell_type": "code",
   "execution_count": 123,
   "id": "62bcf70b",
   "metadata": {},
   "outputs": [],
   "source": [
    "lin1.Insert_Node_At_End(2)"
   ]
  },
  {
   "cell_type": "code",
   "execution_count": 124,
   "id": "c7c32adf",
   "metadata": {},
   "outputs": [],
   "source": [
    "lin1.Insert_Node_At_End(3)"
   ]
  },
  {
   "cell_type": "code",
   "execution_count": 125,
   "id": "ef9dc784",
   "metadata": {},
   "outputs": [
    {
     "name": "stdout",
     "output_type": "stream",
     "text": [
      "9->1->1->2->3\n"
     ]
    }
   ],
   "source": [
    " lin1.Print_Linked_List()\n",
    "    "
   ]
  },
  {
   "cell_type": "code",
   "execution_count": 126,
   "id": "b6dc535b",
   "metadata": {},
   "outputs": [],
   "source": [
    "lin2=Linkedlist()"
   ]
  },
  {
   "cell_type": "code",
   "execution_count": 127,
   "id": "4d168d41",
   "metadata": {},
   "outputs": [],
   "source": [
    "lin2.Insert_Node_At_End(5)\n",
    "lin2.Insert_Node_At_End(2)\n",
    "lin2.Insert_Node_At_End(3)"
   ]
  },
  {
   "cell_type": "code",
   "execution_count": 128,
   "id": "d6ecf289",
   "metadata": {},
   "outputs": [
    {
     "name": "stdout",
     "output_type": "stream",
     "text": [
      "5->2->3\n"
     ]
    }
   ],
   "source": [
    " lin2.Print_Linked_List()"
   ]
  },
  {
   "cell_type": "code",
   "execution_count": 129,
   "id": "75fc49ee",
   "metadata": {},
   "outputs": [],
   "source": [
    "lin3=Linkedlist()"
   ]
  },
  {
   "cell_type": "code",
   "execution_count": 130,
   "id": "c68d2014",
   "metadata": {},
   "outputs": [
    {
     "name": "stdout",
     "output_type": "stream",
     "text": [
      "LinkedList is empty\n"
     ]
    }
   ],
   "source": [
    " lin3.Print_Linked_List()"
   ]
  },
  {
   "cell_type": "code",
   "execution_count": 131,
   "id": "c2f3508f",
   "metadata": {},
   "outputs": [],
   "source": [
    "lin3.Insert_Node_At_Beign(1)\n",
    "lin3.Insert_Node_At_Beign(2)\n",
    "lin3.Insert_Node_At_End(2)\n",
    "lin3.Insert_Node_At_End(3)"
   ]
  },
  {
   "cell_type": "code",
   "execution_count": 132,
   "id": "f5a79640",
   "metadata": {},
   "outputs": [
    {
     "name": "stdout",
     "output_type": "stream",
     "text": [
      "2->1->2->3\n"
     ]
    }
   ],
   "source": [
    " lin3.Print_Linked_List()"
   ]
  },
  {
   "cell_type": "code",
   "execution_count": 133,
   "id": "249cdd99",
   "metadata": {},
   "outputs": [],
   "source": [
    "lin4=Linkedlist()"
   ]
  },
  {
   "cell_type": "code",
   "execution_count": 134,
   "id": "3d364bdb",
   "metadata": {},
   "outputs": [],
   "source": [
    "lin4.Insert_Values_From_List([10001,10002,10003,1005,1006,1007])"
   ]
  },
  {
   "cell_type": "code",
   "execution_count": 135,
   "id": "63bce70f",
   "metadata": {},
   "outputs": [
    {
     "name": "stdout",
     "output_type": "stream",
     "text": [
      "10001->10002->10003->1005->1006->1007\n"
     ]
    }
   ],
   "source": [
    "lin4.Print_Linked_List()"
   ]
  },
  {
   "cell_type": "code",
   "execution_count": 136,
   "id": "a19cda9a",
   "metadata": {},
   "outputs": [
    {
     "name": "stdout",
     "output_type": "stream",
     "text": [
      "length of the linkedlist 5\n"
     ]
    }
   ],
   "source": [
    "## Length of the linklist1\n",
    "lin1_lenght=lin1.Get_LinkedList_Size()\n",
    "print(\"length of the linkedlist\",lin1_lenght)"
   ]
  },
  {
   "cell_type": "code",
   "execution_count": 137,
   "id": "b7a14e0d",
   "metadata": {},
   "outputs": [
    {
     "name": "stdout",
     "output_type": "stream",
     "text": [
      "length of the linkedlist 3\n"
     ]
    }
   ],
   "source": [
    "## Length of the linklist2\n",
    "lin2_lenght=lin2.Get_LinkedList_Size()\n",
    "print(\"length of the linkedlist\",lin2_lenght)"
   ]
  },
  {
   "cell_type": "code",
   "execution_count": 138,
   "id": "c2d15b8f",
   "metadata": {},
   "outputs": [
    {
     "name": "stdout",
     "output_type": "stream",
     "text": [
      "length of the linkedlist 4\n"
     ]
    }
   ],
   "source": [
    "## Length of the linklist3\n",
    "lin3_lenght=lin3.Get_LinkedList_Size()\n",
    "print(\"length of the linkedlist\",lin3_lenght)"
   ]
  },
  {
   "cell_type": "code",
   "execution_count": 139,
   "id": "557f19ce",
   "metadata": {},
   "outputs": [
    {
     "name": "stdout",
     "output_type": "stream",
     "text": [
      "length of the linkedlist 6\n"
     ]
    }
   ],
   "source": [
    "## Length of the linklist4\n",
    "lin4_lenght=lin4.Get_LinkedList_Size()\n",
    "print(\"length of the linkedlist\",lin4_lenght)"
   ]
  },
  {
   "cell_type": "code",
   "execution_count": 140,
   "id": "702e4998",
   "metadata": {},
   "outputs": [
    {
     "name": "stdout",
     "output_type": "stream",
     "text": [
      "10001->10002->10003->1005->1006->1007\n"
     ]
    }
   ],
   "source": [
    "lin4.Print_Linked_List()\n"
   ]
  },
  {
   "cell_type": "code",
   "execution_count": 141,
   "id": "0094a97b",
   "metadata": {},
   "outputs": [],
   "source": [
    "lin4.Insert_Node_At_Index(0,10000)"
   ]
  },
  {
   "cell_type": "code",
   "execution_count": 142,
   "id": "1fcc51a4",
   "metadata": {},
   "outputs": [
    {
     "name": "stdout",
     "output_type": "stream",
     "text": [
      "10000->10001->10002->10003->1005->1006->1007\n"
     ]
    }
   ],
   "source": [
    "lin4.Print_Linked_List()"
   ]
  },
  {
   "cell_type": "code",
   "execution_count": 143,
   "id": "04e577a1",
   "metadata": {},
   "outputs": [],
   "source": [
    "lin4.Insert_Node_At_Index(4,1004)"
   ]
  },
  {
   "cell_type": "code",
   "execution_count": 144,
   "id": "345ec332",
   "metadata": {},
   "outputs": [
    {
     "name": "stdout",
     "output_type": "stream",
     "text": [
      "10000->10001->10002->10003->1004->1005->1006->1007\n"
     ]
    }
   ],
   "source": [
    "lin4.Print_Linked_List()"
   ]
  },
  {
   "cell_type": "code",
   "execution_count": 145,
   "id": "b6a5772b",
   "metadata": {},
   "outputs": [],
   "source": [
    "lin4.Insert_Node_At_Index(8,1008)"
   ]
  },
  {
   "cell_type": "code",
   "execution_count": 146,
   "id": "21c1b534",
   "metadata": {},
   "outputs": [
    {
     "name": "stdout",
     "output_type": "stream",
     "text": [
      "10000->10001->10002->10003->1004->1005->1006->1007->1008\n"
     ]
    }
   ],
   "source": [
    "lin4.Print_Linked_List()"
   ]
  },
  {
   "cell_type": "code",
   "execution_count": 147,
   "id": "4eed1c9c",
   "metadata": {},
   "outputs": [],
   "source": [
    "lin4.Insert_Node_At_Index(8,1009)"
   ]
  },
  {
   "cell_type": "code",
   "execution_count": 148,
   "id": "accdab2e",
   "metadata": {},
   "outputs": [
    {
     "name": "stdout",
     "output_type": "stream",
     "text": [
      "10000->10001->10002->10003->1004->1005->1006->1007->1009->1008\n"
     ]
    }
   ],
   "source": [
    "lin4.Print_Linked_List()"
   ]
  },
  {
   "cell_type": "code",
   "execution_count": 149,
   "id": "f91c3d5a",
   "metadata": {},
   "outputs": [],
   "source": [
    "## delete node from begining\n",
    "lin4.Delete_Node_At_Beg()"
   ]
  },
  {
   "cell_type": "code",
   "execution_count": 150,
   "id": "4a42ae1d",
   "metadata": {},
   "outputs": [
    {
     "name": "stdout",
     "output_type": "stream",
     "text": [
      "10001->10002->10003->1004->1005->1006->1007->1009->1008\n"
     ]
    }
   ],
   "source": [
    "lin4.Print_Linked_List()"
   ]
  },
  {
   "cell_type": "code",
   "execution_count": 151,
   "id": "186f629f",
   "metadata": {},
   "outputs": [],
   "source": [
    "lin4.Delete_Node_At_end()"
   ]
  },
  {
   "cell_type": "code",
   "execution_count": 152,
   "id": "64d00a50",
   "metadata": {},
   "outputs": [
    {
     "name": "stdout",
     "output_type": "stream",
     "text": [
      "10001->10002->10003->1004->1005->1006->1007->1009\n"
     ]
    }
   ],
   "source": [
    "lin4.Print_Linked_List()"
   ]
  },
  {
   "cell_type": "code",
   "execution_count": 153,
   "id": "d35a0543",
   "metadata": {},
   "outputs": [
    {
     "data": {
      "text/plain": [
       "8"
      ]
     },
     "execution_count": 153,
     "metadata": {},
     "output_type": "execute_result"
    }
   ],
   "source": [
    "lin4.Get_LinkedList_Size()"
   ]
  },
  {
   "cell_type": "code",
   "execution_count": 154,
   "id": "939560e0",
   "metadata": {},
   "outputs": [],
   "source": [
    "lin4.Delete_Node_At_Index(0)"
   ]
  },
  {
   "cell_type": "code",
   "execution_count": 155,
   "id": "e22d98fd",
   "metadata": {},
   "outputs": [
    {
     "name": "stdout",
     "output_type": "stream",
     "text": [
      "10002->10003->1004->1005->1006->1007->1009\n"
     ]
    }
   ],
   "source": [
    "lin4.Print_Linked_List()"
   ]
  },
  {
   "cell_type": "code",
   "execution_count": 156,
   "id": "dc8e6438",
   "metadata": {},
   "outputs": [],
   "source": [
    "lin4.Delete_Node_At_Index(3)"
   ]
  },
  {
   "cell_type": "code",
   "execution_count": 157,
   "id": "3e097e12",
   "metadata": {},
   "outputs": [
    {
     "name": "stdout",
     "output_type": "stream",
     "text": [
      "10002->10003->1004->1006->1007->1009\n"
     ]
    }
   ],
   "source": [
    "lin4.Print_Linked_List()"
   ]
  },
  {
   "cell_type": "code",
   "execution_count": 158,
   "id": "53887826",
   "metadata": {},
   "outputs": [],
   "source": [
    "lin4.Delete_Node_At_Index(5)"
   ]
  },
  {
   "cell_type": "code",
   "execution_count": 159,
   "id": "7d974760",
   "metadata": {},
   "outputs": [
    {
     "name": "stdout",
     "output_type": "stream",
     "text": [
      "10002->10003->1004->1006->1007\n"
     ]
    }
   ],
   "source": [
    "lin4.Print_Linked_List()"
   ]
  },
  {
   "cell_type": "code",
   "execution_count": null,
   "id": "07d5308d",
   "metadata": {},
   "outputs": [],
   "source": []
  },
  {
   "cell_type": "code",
   "execution_count": null,
   "id": "1f50ddf8",
   "metadata": {},
   "outputs": [],
   "source": []
  }
 ],
 "metadata": {
  "kernelspec": {
   "display_name": "Python 3 (ipykernel)",
   "language": "python",
   "name": "python3"
  },
  "language_info": {
   "codemirror_mode": {
    "name": "ipython",
    "version": 3
   },
   "file_extension": ".py",
   "mimetype": "text/x-python",
   "name": "python",
   "nbconvert_exporter": "python",
   "pygments_lexer": "ipython3",
   "version": "3.9.7"
  }
 },
 "nbformat": 4,
 "nbformat_minor": 5
}
